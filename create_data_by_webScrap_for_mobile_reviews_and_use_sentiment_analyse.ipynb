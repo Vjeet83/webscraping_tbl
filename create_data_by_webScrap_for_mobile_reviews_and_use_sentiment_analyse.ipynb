{
 "cells": [
  {
   "cell_type": "code",
   "execution_count": 1,
   "id": "bc8b5139",
   "metadata": {},
   "outputs": [],
   "source": [
    "import requests\n",
    "from bs4 import BeautifulSoup\n",
    "import pandas as pd\n",
    "import numpy as np"
   ]
  },
  {
   "cell_type": "code",
   "execution_count": 2,
   "id": "224ddc61",
   "metadata": {},
   "outputs": [],
   "source": [
    "url=\"https://www.flipkart.com/redmi-10-power-power-black-128-gb/product-reviews/itm17561f2c0c6b6?pid=MOBGSYMFPHKSJTWH&lid=LSTMOBGSYMFPHKSJTWHMK8VKQ&marketplace=FLIPKART&page=1\""
   ]
  },
  {
   "cell_type": "code",
   "execution_count": 3,
   "id": "709805cb",
   "metadata": {},
   "outputs": [],
   "source": [
    "a = requests.get(url)\n"
   ]
  },
  {
   "cell_type": "code",
   "execution_count": 4,
   "id": "ca13e70b",
   "metadata": {},
   "outputs": [
    {
     "data": {
      "text/plain": [
       "<Response [200]>"
      ]
     },
     "execution_count": 4,
     "metadata": {},
     "output_type": "execute_result"
    }
   ],
   "source": [
    "a"
   ]
  },
  {
   "cell_type": "code",
   "execution_count": 30,
   "id": "ad788110",
   "metadata": {},
   "outputs": [],
   "source": [
    "# ratings \n",
    "rating_list=[]\n",
    "for i in range(1,32):\n",
    "    url = f\"https://www.flipkart.com/redmi-10-power-power-black-128-gb/product-reviews/itm17561f2c0c6b6?pid=MOBGSYMFPHKSJTWH&lid=LSTMOBGSYMFPHKSJTWHMK8VKQ&marketplace=FLIPKART&page={i}\"\n",
    "    response=requests.get(url)\n",
    "    soup = BeautifulSoup(response.content,\"html.parser\")\n",
    "    ratings = soup.find_all(\"div\", class_=[\"_3LWZlK _1BLPMq\",\"_3LWZlK _32lA32 _1BLPMq\",\"_3LWZlK _1rdVr6 _1BLPMq\"])    \n",
    "\n",
    "    for i in ratings:\n",
    "#         print(i.text)\n",
    "        rating_list.append(i.text)\n",
    "    \n"
   ]
  },
  {
   "cell_type": "code",
   "execution_count": 31,
   "id": "5afb10d9",
   "metadata": {},
   "outputs": [
    {
     "data": {
      "text/plain": [
       "310"
      ]
     },
     "execution_count": 31,
     "metadata": {},
     "output_type": "execute_result"
    }
   ],
   "source": [
    "len(rating_list)"
   ]
  },
  {
   "cell_type": "code",
   "execution_count": 33,
   "id": "bae5f211",
   "metadata": {},
   "outputs": [],
   "source": [
    "# Review\n",
    "reviews_list = []\n",
    "for i in range(1,32):  # Loop through the 30 pages\n",
    "    url = f\"https://www.flipkart.com/redmi-10-power-power-black-128-gb/product-reviews/itm17561f2c0c6b6?pid=MOBGSYMFPHKSJTWH&lid=LSTMOBGSYMFPHKSJTWHMK8VKQ&marketplace=FLIPKART&page={i}\"\n",
    "    response = requests.get(url)\n",
    "    soup = BeautifulSoup(response.content, 'html.parser')\n",
    "\n",
    "    revu = soup.find_all(\"div\", {\"class\": \"t-ZTKy\"} )\n",
    "    for i in revu:\n",
    "        reviews_list.append(i.text)\n",
    "        \n",
    "    \n",
    "        \n"
   ]
  },
  {
   "cell_type": "code",
   "execution_count": 37,
   "id": "7ed2a3e6",
   "metadata": {},
   "outputs": [
    {
     "name": "stdout",
     "output_type": "stream",
     "text": [
      "310\n",
      "310\n"
     ]
    }
   ],
   "source": [
    "print(len(reviews_list))\n",
    "print(len(rating_list))"
   ]
  },
  {
   "cell_type": "code",
   "execution_count": 38,
   "id": "c1937205",
   "metadata": {},
   "outputs": [],
   "source": [
    "data = {'ratings': rating_list, 'reviews': reviews_list}\n",
    "df = pd.DataFrame(data)\n"
   ]
  },
  {
   "cell_type": "code",
   "execution_count": 39,
   "id": "b430ab36",
   "metadata": {},
   "outputs": [
    {
     "data": {
      "text/html": [
       "<div>\n",
       "<style scoped>\n",
       "    .dataframe tbody tr th:only-of-type {\n",
       "        vertical-align: middle;\n",
       "    }\n",
       "\n",
       "    .dataframe tbody tr th {\n",
       "        vertical-align: top;\n",
       "    }\n",
       "\n",
       "    .dataframe thead th {\n",
       "        text-align: right;\n",
       "    }\n",
       "</style>\n",
       "<table border=\"1\" class=\"dataframe\">\n",
       "  <thead>\n",
       "    <tr style=\"text-align: right;\">\n",
       "      <th></th>\n",
       "      <th>ratings</th>\n",
       "      <th>reviews</th>\n",
       "    </tr>\n",
       "  </thead>\n",
       "  <tbody>\n",
       "    <tr>\n",
       "      <th>0</th>\n",
       "      <td>4</td>\n",
       "      <td>Haanset Very good.Configuration Very Good..but...</td>\n",
       "    </tr>\n",
       "    <tr>\n",
       "      <th>1</th>\n",
       "      <td>5</td>\n",
       "      <td>Nice 😊READ MORE</td>\n",
       "    </tr>\n",
       "    <tr>\n",
       "      <th>2</th>\n",
       "      <td>2</td>\n",
       "      <td>Photo (rear and front) poor quality and volume...</td>\n",
       "    </tr>\n",
       "    <tr>\n",
       "      <th>3</th>\n",
       "      <td>5</td>\n",
       "      <td>Best product value for money.8gb ram 6000mah b...</td>\n",
       "    </tr>\n",
       "    <tr>\n",
       "      <th>4</th>\n",
       "      <td>4</td>\n",
       "      <td>Very nice mobile nice performance and sound qu...</td>\n",
       "    </tr>\n",
       "    <tr>\n",
       "      <th>5</th>\n",
       "      <td>5</td>\n",
       "      <td>Super productREAD MORE</td>\n",
       "    </tr>\n",
       "    <tr>\n",
       "      <th>6</th>\n",
       "      <td>5</td>\n",
       "      <td>Charging slow pickup and camera not clarityREA...</td>\n",
       "    </tr>\n",
       "    <tr>\n",
       "      <th>7</th>\n",
       "      <td>5</td>\n",
       "      <td>GoodREAD MORE</td>\n",
       "    </tr>\n",
       "    <tr>\n",
       "      <th>8</th>\n",
       "      <td>4</td>\n",
       "      <td>For this affordable price, the RAM and ROM are...</td>\n",
       "    </tr>\n",
       "    <tr>\n",
       "      <th>9</th>\n",
       "      <td>3</td>\n",
       "      <td>This mobile is good but battery compared to ot...</td>\n",
       "    </tr>\n",
       "  </tbody>\n",
       "</table>\n",
       "</div>"
      ],
      "text/plain": [
       "  ratings                                            reviews\n",
       "0       4  Haanset Very good.Configuration Very Good..but...\n",
       "1       5                                    Nice 😊READ MORE\n",
       "2       2  Photo (rear and front) poor quality and volume...\n",
       "3       5  Best product value for money.8gb ram 6000mah b...\n",
       "4       4  Very nice mobile nice performance and sound qu...\n",
       "5       5                             Super productREAD MORE\n",
       "6       5  Charging slow pickup and camera not clarityREA...\n",
       "7       5                                      GoodREAD MORE\n",
       "8       4  For this affordable price, the RAM and ROM are...\n",
       "9       3  This mobile is good but battery compared to ot..."
      ]
     },
     "execution_count": 39,
     "metadata": {},
     "output_type": "execute_result"
    }
   ],
   "source": [
    "df.head(10)"
   ]
  },
  {
   "cell_type": "code",
   "execution_count": 40,
   "id": "512cb006",
   "metadata": {},
   "outputs": [
    {
     "data": {
      "text/plain": [
       "(310, 2)"
      ]
     },
     "execution_count": 40,
     "metadata": {},
     "output_type": "execute_result"
    }
   ],
   "source": [
    "df.shape"
   ]
  },
  {
   "cell_type": "code",
   "execution_count": 42,
   "id": "f9efc076",
   "metadata": {},
   "outputs": [
    {
     "name": "stdout",
     "output_type": "stream",
     "text": [
      "<class 'pandas.core.frame.DataFrame'>\n",
      "RangeIndex: 310 entries, 0 to 309\n",
      "Data columns (total 2 columns):\n",
      " #   Column   Non-Null Count  Dtype \n",
      "---  ------   --------------  ----- \n",
      " 0   ratings  310 non-null    object\n",
      " 1   reviews  310 non-null    object\n",
      "dtypes: object(2)\n",
      "memory usage: 5.0+ KB\n"
     ]
    }
   ],
   "source": [
    "df.info()"
   ]
  },
  {
   "cell_type": "code",
   "execution_count": 43,
   "id": "4bb8e291",
   "metadata": {},
   "outputs": [],
   "source": [
    "df[\"ratings\"]=df[\"ratings\"].astype(int)"
   ]
  },
  {
   "cell_type": "code",
   "execution_count": 44,
   "id": "d97ed732",
   "metadata": {},
   "outputs": [
    {
     "name": "stdout",
     "output_type": "stream",
     "text": [
      "<class 'pandas.core.frame.DataFrame'>\n",
      "RangeIndex: 310 entries, 0 to 309\n",
      "Data columns (total 2 columns):\n",
      " #   Column   Non-Null Count  Dtype \n",
      "---  ------   --------------  ----- \n",
      " 0   ratings  310 non-null    int32 \n",
      " 1   reviews  310 non-null    object\n",
      "dtypes: int32(1), object(1)\n",
      "memory usage: 3.8+ KB\n"
     ]
    }
   ],
   "source": [
    "df.info()"
   ]
  },
  {
   "cell_type": "code",
   "execution_count": null,
   "id": "e6748989",
   "metadata": {},
   "outputs": [],
   "source": []
  },
  {
   "cell_type": "code",
   "execution_count": 48,
   "id": "cdd8230e",
   "metadata": {},
   "outputs": [],
   "source": [
    "df[\"sentiment\"]=np.where(df[\"ratings\"]>3,'Positive','Negative')"
   ]
  },
  {
   "cell_type": "code",
   "execution_count": 49,
   "id": "684aef2b",
   "metadata": {},
   "outputs": [
    {
     "data": {
      "text/html": [
       "<div>\n",
       "<style scoped>\n",
       "    .dataframe tbody tr th:only-of-type {\n",
       "        vertical-align: middle;\n",
       "    }\n",
       "\n",
       "    .dataframe tbody tr th {\n",
       "        vertical-align: top;\n",
       "    }\n",
       "\n",
       "    .dataframe thead th {\n",
       "        text-align: right;\n",
       "    }\n",
       "</style>\n",
       "<table border=\"1\" class=\"dataframe\">\n",
       "  <thead>\n",
       "    <tr style=\"text-align: right;\">\n",
       "      <th></th>\n",
       "      <th>ratings</th>\n",
       "      <th>reviews</th>\n",
       "      <th>sentiment</th>\n",
       "    </tr>\n",
       "  </thead>\n",
       "  <tbody>\n",
       "    <tr>\n",
       "      <th>0</th>\n",
       "      <td>4</td>\n",
       "      <td>Haanset Very good.Configuration Very Good..but...</td>\n",
       "      <td>Positive</td>\n",
       "    </tr>\n",
       "    <tr>\n",
       "      <th>1</th>\n",
       "      <td>5</td>\n",
       "      <td>Nice 😊READ MORE</td>\n",
       "      <td>Positive</td>\n",
       "    </tr>\n",
       "    <tr>\n",
       "      <th>2</th>\n",
       "      <td>2</td>\n",
       "      <td>Photo (rear and front) poor quality and volume...</td>\n",
       "      <td>Negative</td>\n",
       "    </tr>\n",
       "    <tr>\n",
       "      <th>3</th>\n",
       "      <td>5</td>\n",
       "      <td>Best product value for money.8gb ram 6000mah b...</td>\n",
       "      <td>Positive</td>\n",
       "    </tr>\n",
       "    <tr>\n",
       "      <th>4</th>\n",
       "      <td>4</td>\n",
       "      <td>Very nice mobile nice performance and sound qu...</td>\n",
       "      <td>Positive</td>\n",
       "    </tr>\n",
       "    <tr>\n",
       "      <th>5</th>\n",
       "      <td>5</td>\n",
       "      <td>Super productREAD MORE</td>\n",
       "      <td>Positive</td>\n",
       "    </tr>\n",
       "    <tr>\n",
       "      <th>6</th>\n",
       "      <td>5</td>\n",
       "      <td>Charging slow pickup and camera not clarityREA...</td>\n",
       "      <td>Positive</td>\n",
       "    </tr>\n",
       "    <tr>\n",
       "      <th>7</th>\n",
       "      <td>5</td>\n",
       "      <td>GoodREAD MORE</td>\n",
       "      <td>Positive</td>\n",
       "    </tr>\n",
       "    <tr>\n",
       "      <th>8</th>\n",
       "      <td>4</td>\n",
       "      <td>For this affordable price, the RAM and ROM are...</td>\n",
       "      <td>Positive</td>\n",
       "    </tr>\n",
       "    <tr>\n",
       "      <th>9</th>\n",
       "      <td>3</td>\n",
       "      <td>This mobile is good but battery compared to ot...</td>\n",
       "      <td>Negative</td>\n",
       "    </tr>\n",
       "  </tbody>\n",
       "</table>\n",
       "</div>"
      ],
      "text/plain": [
       "   ratings                                            reviews sentiment\n",
       "0        4  Haanset Very good.Configuration Very Good..but...  Positive\n",
       "1        5                                    Nice 😊READ MORE  Positive\n",
       "2        2  Photo (rear and front) poor quality and volume...  Negative\n",
       "3        5  Best product value for money.8gb ram 6000mah b...  Positive\n",
       "4        4  Very nice mobile nice performance and sound qu...  Positive\n",
       "5        5                             Super productREAD MORE  Positive\n",
       "6        5  Charging slow pickup and camera not clarityREA...  Positive\n",
       "7        5                                      GoodREAD MORE  Positive\n",
       "8        4  For this affordable price, the RAM and ROM are...  Positive\n",
       "9        3  This mobile is good but battery compared to ot...  Negative"
      ]
     },
     "execution_count": 49,
     "metadata": {},
     "output_type": "execute_result"
    }
   ],
   "source": [
    "df.head(10)"
   ]
  },
  {
   "cell_type": "code",
   "execution_count": 50,
   "id": "6ec00d24",
   "metadata": {},
   "outputs": [],
   "source": [
    "df['reviews']=df['reviews'].str.rstrip('?')"
   ]
  },
  {
   "cell_type": "code",
   "execution_count": 51,
   "id": "b8a8528d",
   "metadata": {},
   "outputs": [],
   "source": [
    "df['reviews']=df['reviews'].str.lstrip('...')"
   ]
  },
  {
   "cell_type": "code",
   "execution_count": 52,
   "id": "3d961c14",
   "metadata": {},
   "outputs": [],
   "source": [
    "df['reviews']=df['reviews'].str.upper()"
   ]
  },
  {
   "cell_type": "code",
   "execution_count": 53,
   "id": "81986c47",
   "metadata": {},
   "outputs": [],
   "source": [
    "from nltk.sentiment.vader import SentimentIntensityAnalyzer\n"
   ]
  },
  {
   "cell_type": "code",
   "execution_count": 58,
   "id": "24757223",
   "metadata": {},
   "outputs": [
    {
     "name": "stderr",
     "output_type": "stream",
     "text": [
      "[nltk_data] Downloading package vader_lexicon to\n",
      "[nltk_data]     C:\\Users\\Jarvis\\AppData\\Roaming\\nltk_data...\n"
     ]
    },
    {
     "data": {
      "text/plain": [
       "True"
      ]
     },
     "execution_count": 58,
     "metadata": {},
     "output_type": "execute_result"
    }
   ],
   "source": [
    "import nltk\n",
    "nltk.download('vader_lexicon')"
   ]
  },
  {
   "cell_type": "code",
   "execution_count": 59,
   "id": "7d413e2d",
   "metadata": {},
   "outputs": [],
   "source": [
    "senti=SentimentIntensityAnalyzer()\n"
   ]
  },
  {
   "cell_type": "code",
   "execution_count": 61,
   "id": "dec5b6df",
   "metadata": {},
   "outputs": [],
   "source": [
    "df[\"Positive\"]=[senti.polarity_scores(i)[\"pos\"] for i in df[\"reviews\"]]\n",
    "df[\"Negative\"]=[senti.polarity_scores(i)[\"neg\"] for i in df[\"reviews\"]]\n"
   ]
  },
  {
   "cell_type": "code",
   "execution_count": 67,
   "id": "a568cae4",
   "metadata": {},
   "outputs": [],
   "source": []
  },
  {
   "cell_type": "code",
   "execution_count": 68,
   "id": "2b4e876e",
   "metadata": {},
   "outputs": [
    {
     "data": {
      "text/html": [
       "<div>\n",
       "<style scoped>\n",
       "    .dataframe tbody tr th:only-of-type {\n",
       "        vertical-align: middle;\n",
       "    }\n",
       "\n",
       "    .dataframe tbody tr th {\n",
       "        vertical-align: top;\n",
       "    }\n",
       "\n",
       "    .dataframe thead th {\n",
       "        text-align: right;\n",
       "    }\n",
       "</style>\n",
       "<table border=\"1\" class=\"dataframe\">\n",
       "  <thead>\n",
       "    <tr style=\"text-align: right;\">\n",
       "      <th></th>\n",
       "      <th>ratings</th>\n",
       "      <th>reviews</th>\n",
       "      <th>sentiment</th>\n",
       "    </tr>\n",
       "  </thead>\n",
       "  <tbody>\n",
       "    <tr>\n",
       "      <th>0</th>\n",
       "      <td>4</td>\n",
       "      <td>HAANSET VERY GOOD.CONFIGURATION VERY GOOD..BUT...</td>\n",
       "      <td>Positive</td>\n",
       "    </tr>\n",
       "    <tr>\n",
       "      <th>1</th>\n",
       "      <td>5</td>\n",
       "      <td>NICE 😊READ MORE</td>\n",
       "      <td>Positive</td>\n",
       "    </tr>\n",
       "    <tr>\n",
       "      <th>2</th>\n",
       "      <td>2</td>\n",
       "      <td>PHOTO (REAR AND FRONT) POOR QUALITY AND VOLUME...</td>\n",
       "      <td>Negative</td>\n",
       "    </tr>\n",
       "    <tr>\n",
       "      <th>3</th>\n",
       "      <td>5</td>\n",
       "      <td>BEST PRODUCT VALUE FOR MONEY.8GB RAM 6000MAH B...</td>\n",
       "      <td>Positive</td>\n",
       "    </tr>\n",
       "    <tr>\n",
       "      <th>4</th>\n",
       "      <td>4</td>\n",
       "      <td>VERY NICE MOBILE NICE PERFORMANCE AND SOUND QU...</td>\n",
       "      <td>Positive</td>\n",
       "    </tr>\n",
       "    <tr>\n",
       "      <th>...</th>\n",
       "      <td>...</td>\n",
       "      <td>...</td>\n",
       "      <td>...</td>\n",
       "    </tr>\n",
       "    <tr>\n",
       "      <th>305</th>\n",
       "      <td>1</td>\n",
       "      <td>BATTERY IS NOT GOOD IT'S TAKE CHARGING HEAVY T...</td>\n",
       "      <td>Negative</td>\n",
       "    </tr>\n",
       "    <tr>\n",
       "      <th>306</th>\n",
       "      <td>4</td>\n",
       "      <td>EXCELLENT 👌👌👌READ MORE</td>\n",
       "      <td>Positive</td>\n",
       "    </tr>\n",
       "    <tr>\n",
       "      <th>307</th>\n",
       "      <td>5</td>\n",
       "      <td>NICE 🥳🥳🥳🥳🔥🔥🔥🔥READ MORE</td>\n",
       "      <td>Positive</td>\n",
       "    </tr>\n",
       "    <tr>\n",
       "      <th>308</th>\n",
       "      <td>3</td>\n",
       "      <td>GOOD BUT BATTERY PROBLEMREAD MORE</td>\n",
       "      <td>Negative</td>\n",
       "    </tr>\n",
       "    <tr>\n",
       "      <th>309</th>\n",
       "      <td>5</td>\n",
       "      <td>VERY VERY GOODREAD MORE</td>\n",
       "      <td>Positive</td>\n",
       "    </tr>\n",
       "  </tbody>\n",
       "</table>\n",
       "<p>310 rows × 3 columns</p>\n",
       "</div>"
      ],
      "text/plain": [
       "     ratings                                            reviews sentiment\n",
       "0          4  HAANSET VERY GOOD.CONFIGURATION VERY GOOD..BUT...  Positive\n",
       "1          5                                    NICE 😊READ MORE  Positive\n",
       "2          2  PHOTO (REAR AND FRONT) POOR QUALITY AND VOLUME...  Negative\n",
       "3          5  BEST PRODUCT VALUE FOR MONEY.8GB RAM 6000MAH B...  Positive\n",
       "4          4  VERY NICE MOBILE NICE PERFORMANCE AND SOUND QU...  Positive\n",
       "..       ...                                                ...       ...\n",
       "305        1  BATTERY IS NOT GOOD IT'S TAKE CHARGING HEAVY T...  Negative\n",
       "306        4                             EXCELLENT 👌👌👌READ MORE  Positive\n",
       "307        5                             NICE 🥳🥳🥳🥳🔥🔥🔥🔥READ MORE  Positive\n",
       "308        3                  GOOD BUT BATTERY PROBLEMREAD MORE  Negative\n",
       "309        5                            VERY VERY GOODREAD MORE  Positive\n",
       "\n",
       "[310 rows x 3 columns]"
      ]
     },
     "execution_count": 68,
     "metadata": {},
     "output_type": "execute_result"
    }
   ],
   "source": []
  },
  {
   "cell_type": "code",
   "execution_count": 63,
   "id": "8828694b",
   "metadata": {},
   "outputs": [],
   "source": []
  },
  {
   "cell_type": "code",
   "execution_count": 64,
   "id": "f7c31fc8",
   "metadata": {},
   "outputs": [
    {
     "data": {
      "text/html": [
       "<div>\n",
       "<style scoped>\n",
       "    .dataframe tbody tr th:only-of-type {\n",
       "        vertical-align: middle;\n",
       "    }\n",
       "\n",
       "    .dataframe tbody tr th {\n",
       "        vertical-align: top;\n",
       "    }\n",
       "\n",
       "    .dataframe thead th {\n",
       "        text-align: right;\n",
       "    }\n",
       "</style>\n",
       "<table border=\"1\" class=\"dataframe\">\n",
       "  <thead>\n",
       "    <tr style=\"text-align: right;\">\n",
       "      <th></th>\n",
       "      <th>ratings</th>\n",
       "      <th>reviews</th>\n",
       "      <th>sentiment</th>\n",
       "      <th>Positive</th>\n",
       "      <th>Negative</th>\n",
       "    </tr>\n",
       "  </thead>\n",
       "  <tbody>\n",
       "    <tr>\n",
       "      <th>0</th>\n",
       "      <td>4</td>\n",
       "      <td>HAANSET VERY GOOD.CONFIGURATION VERY GOOD..BUT...</td>\n",
       "      <td>Positive</td>\n",
       "      <td>0.000</td>\n",
       "      <td>0.000</td>\n",
       "    </tr>\n",
       "    <tr>\n",
       "      <th>1</th>\n",
       "      <td>5</td>\n",
       "      <td>NICE 😊READ MORE</td>\n",
       "      <td>Positive</td>\n",
       "      <td>0.583</td>\n",
       "      <td>0.000</td>\n",
       "    </tr>\n",
       "    <tr>\n",
       "      <th>2</th>\n",
       "      <td>2</td>\n",
       "      <td>PHOTO (REAR AND FRONT) POOR QUALITY AND VOLUME...</td>\n",
       "      <td>Negative</td>\n",
       "      <td>0.042</td>\n",
       "      <td>0.328</td>\n",
       "    </tr>\n",
       "    <tr>\n",
       "      <th>3</th>\n",
       "      <td>5</td>\n",
       "      <td>BEST PRODUCT VALUE FOR MONEY.8GB RAM 6000MAH B...</td>\n",
       "      <td>Positive</td>\n",
       "      <td>0.423</td>\n",
       "      <td>0.000</td>\n",
       "    </tr>\n",
       "    <tr>\n",
       "      <th>4</th>\n",
       "      <td>4</td>\n",
       "      <td>VERY NICE MOBILE NICE PERFORMANCE AND SOUND QU...</td>\n",
       "      <td>Positive</td>\n",
       "      <td>0.431</td>\n",
       "      <td>0.000</td>\n",
       "    </tr>\n",
       "    <tr>\n",
       "      <th>...</th>\n",
       "      <td>...</td>\n",
       "      <td>...</td>\n",
       "      <td>...</td>\n",
       "      <td>...</td>\n",
       "      <td>...</td>\n",
       "    </tr>\n",
       "    <tr>\n",
       "      <th>305</th>\n",
       "      <td>1</td>\n",
       "      <td>BATTERY IS NOT GOOD IT'S TAKE CHARGING HEAVY T...</td>\n",
       "      <td>Negative</td>\n",
       "      <td>0.148</td>\n",
       "      <td>0.142</td>\n",
       "    </tr>\n",
       "    <tr>\n",
       "      <th>306</th>\n",
       "      <td>4</td>\n",
       "      <td>EXCELLENT 👌👌👌READ MORE</td>\n",
       "      <td>Positive</td>\n",
       "      <td>0.649</td>\n",
       "      <td>0.000</td>\n",
       "    </tr>\n",
       "    <tr>\n",
       "      <th>307</th>\n",
       "      <td>5</td>\n",
       "      <td>NICE 🥳🥳🥳🥳🔥🔥🔥🔥READ MORE</td>\n",
       "      <td>Positive</td>\n",
       "      <td>0.583</td>\n",
       "      <td>0.000</td>\n",
       "    </tr>\n",
       "    <tr>\n",
       "      <th>308</th>\n",
       "      <td>3</td>\n",
       "      <td>GOOD BUT BATTERY PROBLEMREAD MORE</td>\n",
       "      <td>Negative</td>\n",
       "      <td>0.328</td>\n",
       "      <td>0.000</td>\n",
       "    </tr>\n",
       "    <tr>\n",
       "      <th>309</th>\n",
       "      <td>5</td>\n",
       "      <td>VERY VERY GOODREAD MORE</td>\n",
       "      <td>Positive</td>\n",
       "      <td>0.000</td>\n",
       "      <td>0.000</td>\n",
       "    </tr>\n",
       "  </tbody>\n",
       "</table>\n",
       "<p>310 rows × 5 columns</p>\n",
       "</div>"
      ],
      "text/plain": [
       "     ratings                                            reviews sentiment  \\\n",
       "0          4  HAANSET VERY GOOD.CONFIGURATION VERY GOOD..BUT...  Positive   \n",
       "1          5                                    NICE 😊READ MORE  Positive   \n",
       "2          2  PHOTO (REAR AND FRONT) POOR QUALITY AND VOLUME...  Negative   \n",
       "3          5  BEST PRODUCT VALUE FOR MONEY.8GB RAM 6000MAH B...  Positive   \n",
       "4          4  VERY NICE MOBILE NICE PERFORMANCE AND SOUND QU...  Positive   \n",
       "..       ...                                                ...       ...   \n",
       "305        1  BATTERY IS NOT GOOD IT'S TAKE CHARGING HEAVY T...  Negative   \n",
       "306        4                             EXCELLENT 👌👌👌READ MORE  Positive   \n",
       "307        5                             NICE 🥳🥳🥳🥳🔥🔥🔥🔥READ MORE  Positive   \n",
       "308        3                  GOOD BUT BATTERY PROBLEMREAD MORE  Negative   \n",
       "309        5                            VERY VERY GOODREAD MORE  Positive   \n",
       "\n",
       "     Positive  Negative  \n",
       "0       0.000     0.000  \n",
       "1       0.583     0.000  \n",
       "2       0.042     0.328  \n",
       "3       0.423     0.000  \n",
       "4       0.431     0.000  \n",
       "..        ...       ...  \n",
       "305     0.148     0.142  \n",
       "306     0.649     0.000  \n",
       "307     0.583     0.000  \n",
       "308     0.328     0.000  \n",
       "309     0.000     0.000  \n",
       "\n",
       "[310 rows x 5 columns]"
      ]
     },
     "execution_count": 64,
     "metadata": {},
     "output_type": "execute_result"
    }
   ],
   "source": [
    "df"
   ]
  },
  {
   "cell_type": "code",
   "execution_count": 65,
   "id": "1b53d0fb",
   "metadata": {},
   "outputs": [
    {
     "name": "stdout",
     "output_type": "stream",
     "text": [
      "Positive \n"
     ]
    }
   ],
   "source": [
    "x=sum(df[\"Positive\"])\n",
    "y=sum(df[\"Negative\"])\n",
    "\n",
    "def sentiment_score(a,b):\n",
    "    if(a>b) :\n",
    "        print(\"Positive \")\n",
    "    elif (b>a):\n",
    "        print(\"Negative \")\n",
    "    else:\n",
    "        print(\"neutral\")\n",
    "sentiment_score(x,y)"
   ]
  },
  {
   "cell_type": "code",
   "execution_count": null,
   "id": "728d2be6",
   "metadata": {},
   "outputs": [],
   "source": []
  },
  {
   "cell_type": "markdown",
   "id": "120372b3",
   "metadata": {},
   "source": [
    "# to upload on kaggle"
   ]
  },
  {
   "cell_type": "code",
   "execution_count": null,
   "id": "8fea81a2",
   "metadata": {},
   "outputs": [],
   "source": []
  },
  {
   "cell_type": "code",
   "execution_count": 69,
   "id": "6c53cbce",
   "metadata": {},
   "outputs": [],
   "source": [
    "df1=df.iloc[:,:3]"
   ]
  },
  {
   "cell_type": "code",
   "execution_count": null,
   "id": "b30df1d0",
   "metadata": {},
   "outputs": [],
   "source": []
  },
  {
   "cell_type": "code",
   "execution_count": 70,
   "id": "d11c249c",
   "metadata": {},
   "outputs": [
    {
     "data": {
      "text/html": [
       "<div>\n",
       "<style scoped>\n",
       "    .dataframe tbody tr th:only-of-type {\n",
       "        vertical-align: middle;\n",
       "    }\n",
       "\n",
       "    .dataframe tbody tr th {\n",
       "        vertical-align: top;\n",
       "    }\n",
       "\n",
       "    .dataframe thead th {\n",
       "        text-align: right;\n",
       "    }\n",
       "</style>\n",
       "<table border=\"1\" class=\"dataframe\">\n",
       "  <thead>\n",
       "    <tr style=\"text-align: right;\">\n",
       "      <th></th>\n",
       "      <th>ratings</th>\n",
       "      <th>reviews</th>\n",
       "      <th>sentiment</th>\n",
       "    </tr>\n",
       "  </thead>\n",
       "  <tbody>\n",
       "    <tr>\n",
       "      <th>0</th>\n",
       "      <td>4</td>\n",
       "      <td>HAANSET VERY GOOD.CONFIGURATION VERY GOOD..BUT...</td>\n",
       "      <td>Positive</td>\n",
       "    </tr>\n",
       "    <tr>\n",
       "      <th>1</th>\n",
       "      <td>5</td>\n",
       "      <td>NICE 😊READ MORE</td>\n",
       "      <td>Positive</td>\n",
       "    </tr>\n",
       "    <tr>\n",
       "      <th>2</th>\n",
       "      <td>2</td>\n",
       "      <td>PHOTO (REAR AND FRONT) POOR QUALITY AND VOLUME...</td>\n",
       "      <td>Negative</td>\n",
       "    </tr>\n",
       "    <tr>\n",
       "      <th>3</th>\n",
       "      <td>5</td>\n",
       "      <td>BEST PRODUCT VALUE FOR MONEY.8GB RAM 6000MAH B...</td>\n",
       "      <td>Positive</td>\n",
       "    </tr>\n",
       "    <tr>\n",
       "      <th>4</th>\n",
       "      <td>4</td>\n",
       "      <td>VERY NICE MOBILE NICE PERFORMANCE AND SOUND QU...</td>\n",
       "      <td>Positive</td>\n",
       "    </tr>\n",
       "    <tr>\n",
       "      <th>...</th>\n",
       "      <td>...</td>\n",
       "      <td>...</td>\n",
       "      <td>...</td>\n",
       "    </tr>\n",
       "    <tr>\n",
       "      <th>305</th>\n",
       "      <td>1</td>\n",
       "      <td>BATTERY IS NOT GOOD IT'S TAKE CHARGING HEAVY T...</td>\n",
       "      <td>Negative</td>\n",
       "    </tr>\n",
       "    <tr>\n",
       "      <th>306</th>\n",
       "      <td>4</td>\n",
       "      <td>EXCELLENT 👌👌👌READ MORE</td>\n",
       "      <td>Positive</td>\n",
       "    </tr>\n",
       "    <tr>\n",
       "      <th>307</th>\n",
       "      <td>5</td>\n",
       "      <td>NICE 🥳🥳🥳🥳🔥🔥🔥🔥READ MORE</td>\n",
       "      <td>Positive</td>\n",
       "    </tr>\n",
       "    <tr>\n",
       "      <th>308</th>\n",
       "      <td>3</td>\n",
       "      <td>GOOD BUT BATTERY PROBLEMREAD MORE</td>\n",
       "      <td>Negative</td>\n",
       "    </tr>\n",
       "    <tr>\n",
       "      <th>309</th>\n",
       "      <td>5</td>\n",
       "      <td>VERY VERY GOODREAD MORE</td>\n",
       "      <td>Positive</td>\n",
       "    </tr>\n",
       "  </tbody>\n",
       "</table>\n",
       "<p>310 rows × 3 columns</p>\n",
       "</div>"
      ],
      "text/plain": [
       "     ratings                                            reviews sentiment\n",
       "0          4  HAANSET VERY GOOD.CONFIGURATION VERY GOOD..BUT...  Positive\n",
       "1          5                                    NICE 😊READ MORE  Positive\n",
       "2          2  PHOTO (REAR AND FRONT) POOR QUALITY AND VOLUME...  Negative\n",
       "3          5  BEST PRODUCT VALUE FOR MONEY.8GB RAM 6000MAH B...  Positive\n",
       "4          4  VERY NICE MOBILE NICE PERFORMANCE AND SOUND QU...  Positive\n",
       "..       ...                                                ...       ...\n",
       "305        1  BATTERY IS NOT GOOD IT'S TAKE CHARGING HEAVY T...  Negative\n",
       "306        4                             EXCELLENT 👌👌👌READ MORE  Positive\n",
       "307        5                             NICE 🥳🥳🥳🥳🔥🔥🔥🔥READ MORE  Positive\n",
       "308        3                  GOOD BUT BATTERY PROBLEMREAD MORE  Negative\n",
       "309        5                            VERY VERY GOODREAD MORE  Positive\n",
       "\n",
       "[310 rows x 3 columns]"
      ]
     },
     "execution_count": 70,
     "metadata": {},
     "output_type": "execute_result"
    }
   ],
   "source": [
    "\n",
    "df1"
   ]
  },
  {
   "cell_type": "code",
   "execution_count": 73,
   "id": "0f7e54db",
   "metadata": {},
   "outputs": [],
   "source": [
    "df1.to_csv(\"C:\\\\Desktop\\\\Mi_Mobile_ReviewData_for_NLP_Practice.csv\",index=False)"
   ]
  },
  {
   "cell_type": "code",
   "execution_count": null,
   "id": "5862ab2d",
   "metadata": {},
   "outputs": [],
   "source": []
  }
 ],
 "metadata": {
  "kernelspec": {
   "display_name": "Python 3 (ipykernel)",
   "language": "python",
   "name": "python3"
  },
  "language_info": {
   "codemirror_mode": {
    "name": "ipython",
    "version": 3
   },
   "file_extension": ".py",
   "mimetype": "text/x-python",
   "name": "python",
   "nbconvert_exporter": "python",
   "pygments_lexer": "ipython3",
   "version": "3.10.9"
  }
 },
 "nbformat": 4,
 "nbformat_minor": 5
}
